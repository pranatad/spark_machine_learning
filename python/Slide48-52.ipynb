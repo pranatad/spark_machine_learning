{
  "nbformat": 4,
  "nbformat_minor": 0,
  "metadata": {
    "colab": {
      "provenance": []
    },
    "kernelspec": {
      "name": "python3",
      "display_name": "Python 3"
    },
    "language_info": {
      "name": "python"
    }
  },
  "cells": [
    {
      "cell_type": "code",
      "source": [
        "from google.colab import drive\n",
        "drive.mount('/content/drive')"
      ],
      "metadata": {
        "colab": {
          "base_uri": "https://localhost:8080/"
        },
        "id": "FhaRMVgoTygv",
        "outputId": "ae9ba246-5539-4324-9951-62effe2adbc9"
      },
      "execution_count": null,
      "outputs": [
        {
          "output_type": "stream",
          "name": "stdout",
          "text": [
            "Mounted at /content/drive\n"
          ]
        }
      ]
    },
    {
      "cell_type": "code",
      "source": [
        "!pip install pyspark"
      ],
      "metadata": {
        "colab": {
          "base_uri": "https://localhost:8080/"
        },
        "id": "KeejJDwBT3WA",
        "outputId": "125716f4-2e6b-404d-bc14-d1c4e84286e8"
      },
      "execution_count": null,
      "outputs": [
        {
          "output_type": "stream",
          "name": "stdout",
          "text": [
            "Looking in indexes: https://pypi.org/simple, https://us-python.pkg.dev/colab-wheels/public/simple/\n",
            "Collecting pyspark\n",
            "  Downloading pyspark-3.4.0.tar.gz (310.8 MB)\n",
            "\u001b[2K     \u001b[90m━━━━━━━━━━━━━━━━━━━━━━━━━━━━━━━━━━━━━━━\u001b[0m \u001b[32m310.8/310.8 MB\u001b[0m \u001b[31m4.5 MB/s\u001b[0m eta \u001b[36m0:00:00\u001b[0m\n",
            "\u001b[?25h  Preparing metadata (setup.py) ... \u001b[?25l\u001b[?25hdone\n",
            "Requirement already satisfied: py4j==0.10.9.7 in /usr/local/lib/python3.10/dist-packages (from pyspark) (0.10.9.7)\n",
            "Building wheels for collected packages: pyspark\n",
            "  Building wheel for pyspark (setup.py) ... \u001b[?25l\u001b[?25hdone\n",
            "  Created wheel for pyspark: filename=pyspark-3.4.0-py2.py3-none-any.whl size=311317130 sha256=753031395ce3f6b025b573ff23a03b3af61c2a4c89ab879b382cf73a684280d1\n",
            "  Stored in directory: /root/.cache/pip/wheels/7b/1b/4b/3363a1d04368e7ff0d408e57ff57966fcdf00583774e761327\n",
            "Successfully built pyspark\n",
            "Installing collected packages: pyspark\n",
            "Successfully installed pyspark-3.4.0\n"
          ]
        }
      ]
    },
    {
      "cell_type": "code",
      "execution_count": null,
      "metadata": {
        "id": "yKCM0gKITWtQ"
      },
      "outputs": [],
      "source": [
        "import pyspark\n",
        "from pyspark.sql import SparkSession"
      ]
    },
    {
      "cell_type": "code",
      "source": [
        "spark = SparkSession.builder.appName('Movie Recommendation').getOrCreate()\n",
        "\n",
        "from pyspark.mllib.recommendation import Rating\n",
        "from pyspark.mllib.recommendation import ALS\n",
        "\n",
        "raw = spark.sparkContext.textFile(\"/content/ratings.dat\")\n",
        "\n",
        "mydata = [(2, 0.01)]\n",
        "\n",
        "mydatardd = spark.sparkContext.parallelize(mydata).map(lambda x: Rating(0, x[0], x[1]))\n",
        "\n",
        "def parseRating(str):\n",
        "    fields = str.split(\"::\")\n",
        "    assert(len(fields) == 4)\n",
        "    return Rating(int(fields[0]), int(fields[1]), float(fields[2]))\n",
        "\n",
        "ratings = raw.map(parseRating)\n",
        "totalratings = ratings.union(mydatardd)\n",
        "model = ALS.train(totalratings, rank=8, iterations=5, lambda_=1.0)\n",
        "products = model.recommendProducts(1, 10)\n",
        "\n",
        "products"
      ],
      "metadata": {
        "id": "kPH2WqvoUpee",
        "colab": {
          "base_uri": "https://localhost:8080/"
        },
        "outputId": "290d806c-a419-438a-c50a-7c82a340cf5d"
      },
      "execution_count": null,
      "outputs": [
        {
          "output_type": "execute_result",
          "data": {
            "text/plain": [
              "[Rating(user=1, product=3382, rating=4.436747925406144),\n",
              " Rating(user=1, product=989, rating=4.0262556400755205),\n",
              " Rating(user=1, product=3233, rating=3.9094207185718495),\n",
              " Rating(user=1, product=787, rating=3.9083432772314546),\n",
              " Rating(user=1, product=1830, rating=3.9037972119182323),\n",
              " Rating(user=1, product=557, rating=3.8986426937960825),\n",
              " Rating(user=1, product=3607, rating=3.8560229948069913),\n",
              " Rating(user=1, product=3172, rating=3.838212642618937),\n",
              " Rating(user=1, product=3656, rating=3.7965952425691736),\n",
              " Rating(user=1, product=2503, rating=3.792973560809293)]"
            ]
          },
          "metadata": {},
          "execution_count": 5
        }
      ]
    },
    {
      "cell_type": "code",
      "source": [
        "from pyspark.mllib.linalg import Vectors\n",
        "from pyspark.mllib.stat import Statistics\n",
        "\n",
        "vectorRDD = totalratings.map(lambda rating: Vectors.dense(rating.user, rating.product, rating.rating))\n",
        "summary = Statistics.colStats(vectorRDD)\n",
        "\n",
        "print(summary.mean())\n",
        "print(summary.variance())\n",
        "print(summary.numNonzeros())"
      ],
      "metadata": {
        "colab": {
          "base_uri": "https://localhost:8080/"
        },
        "id": "8Pv17nE0YNfF",
        "outputId": "d5ac96e5-1d38-444b-d489-df6d32416f22"
      },
      "execution_count": null,
      "outputs": [
        {
          "output_type": "stream",
          "name": "stdout",
          "text": [
            "[3024.50932404 1865.53803501    3.58156088]\n",
            "[2.98741660e+06 1.20130746e+06 1.24792804e+00]\n",
            "[1000209. 1000210. 1000210.]\n"
          ]
        }
      ]
    },
    {
      "cell_type": "code",
      "source": [
        "from pyspark.ml.clustering import KMeans\n",
        "from pyspark.ml.linalg import Vectors\n",
        "\n",
        "data = spark.read.text(\"/content/kmeans_data.txt\")\n",
        "parsedData = data.rdd.map(lambda s: Vectors.dense([float(x) for x in s.value.split(' ')]))\n",
        "\n",
        "# Convert RDD to DataFrame\n",
        "parsedData = parsedData.map(lambda x: (x, )).toDF([\"features\"])\n",
        "\n",
        "# Cluster the data into two classes using KMeans\n",
        "numClusters = 2\n",
        "numIterations = 20\n",
        "kmeans = KMeans().setK(numClusters).setMaxIter(numIterations)\n",
        "model = kmeans.fit(parsedData)\n",
        "\n",
        "# Predict the cluster for each data point\n",
        "predictions = model.transform(parsedData)\n",
        "\n",
        "# Compute Within Set Sum of Squared Errors\n",
        "wssse = model.summary.trainingCost\n",
        "print(\"Within Set Sum of Squared Errors = \" + str(wssse))\n",
        "\n",
        "# Print the predicted cluster for each data point\n",
        "predictions.select(\"prediction\").show()\n"
      ],
      "metadata": {
        "colab": {
          "base_uri": "https://localhost:8080/"
        },
        "id": "OC0n85jeDEUA",
        "outputId": "61a57018-776f-401a-9723-36ce52c3552f"
      },
      "execution_count": null,
      "outputs": [
        {
          "output_type": "stream",
          "name": "stdout",
          "text": [
            "Within Set Sum of Squared Errors = 0.1199999999999996\n",
            "+----------+\n",
            "|prediction|\n",
            "+----------+\n",
            "|         0|\n",
            "|         0|\n",
            "|         0|\n",
            "|         1|\n",
            "|         1|\n",
            "|         1|\n",
            "+----------+\n",
            "\n"
          ]
        }
      ]
    },
    {
      "cell_type": "code",
      "source": [
        "from pyspark.mllib.clustering import KMeans, KMeansModel\n",
        "from numpy import array\n",
        "from math import sqrt\n",
        "\n",
        "\n",
        "# Load and parse the data\n",
        "data = spark.sparkContext.textFile(\"/content/kmeans_data.txt\")\n",
        "parsedData = data.map(lambda line: array([float(x) for x in line.split(' ')]))\n",
        "\n",
        "# Build the model (cluster the data)\n",
        "clusters = KMeans.train(parsedData, k=2, maxIterations=10, initializationMode=\"random\")\n",
        "\n",
        "# Evaluate clustering by computing Within Set Sum of Squared Errors\n",
        "def error(point):\n",
        "    center = clusters.centers[clusters.predict(point)]\n",
        "    return sqrt(sum([x ** 2 for x in (point - center)]))\n",
        "\n",
        "WSSSE = parsedData.map(lambda point: error(point)).reduce(lambda x, y: x + y)\n",
        "\n",
        "print(\"Within Set Sum of Squared Error = \" + str(WSSSE))\n",
        "\n",
        "# Save and load model\n",
        "clusters.save(spark.sparkContext, \"/content/\")\n",
        "sameModel = KMeansModel.load(spark.sparkContext, \"/content/\")"
      ],
      "metadata": {
        "colab": {
          "base_uri": "https://localhost:8080/"
        },
        "id": "dhDVIt8DEP_3",
        "outputId": "eee55bac-7c5b-4487-dc06-726f4c4c801a"
      },
      "execution_count": null,
      "outputs": [
        {
          "output_type": "stream",
          "name": "stdout",
          "text": [
            "Within Set Sum of Squared Error = 0.6928203230275529\n"
          ]
        }
      ]
    },
    {
      "cell_type": "code",
      "source": [],
      "metadata": {
        "id": "hdWmfMuciisu"
      },
      "execution_count": null,
      "outputs": []
    }
  ]
}